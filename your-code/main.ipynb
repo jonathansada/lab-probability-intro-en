{
 "cells": [
  {
   "cell_type": "markdown",
   "metadata": {},
   "source": [
    "# Probability"
   ]
  },
  {
   "cell_type": "markdown",
   "metadata": {},
   "source": [
    "## Challenge 1\n",
    "There is a box with 10 white balls, 12 red balls and 8 black balls. Calculate the probability of:\n",
    "* Taking a white ball out.\n",
    "* Taking a white ball on first extraction and a black ball out on second extraction without replacing the first one.\n",
    "* Taking a white ball on first extraction and a black ball out on second extraction replacing the first one.\n",
    "* Taking 3 balls and them being all different colours."
   ]
  },
  {
   "cell_type": "code",
   "execution_count": 47,
   "metadata": {},
   "outputs": [
    {
     "name": "stdout",
     "output_type": "stream",
     "text": [
      "Probability of taking one White ball: 0.3333\n",
      "Probability of taking one Black ball after taking a White one (without replacement): 0.0920\n",
      "Probability of taking one Black ball after taking a White one (with replacement): 0.0889\n",
      "Probability of taking 3 different color balls (without replacement): 0.2365\n"
     ]
    }
   ],
   "source": [
    "# YOUR CODE HERE\n",
    "# Apply Laplace's Rule\n",
    "#P(white) = |white| / (|white| + |red| + |black|)\n",
    "pWhite = 10 / (10 + 12 + 8)\n",
    "print(f\"Probability of taking one White ball: {pWhite:.4f}\")\n",
    "\n",
    "# It's a dependent event\n",
    "#P(A ∩ B) = P(B|A) x P(A)\n",
    "#P(black ∩ white) = P(white|black) x P(black)\n",
    "#P(black ∩ white) = (P(white ∩ black) / P(black)) x P(black)\n",
    "#P(black ∩ white) = (P(white) x P(black) / P(black)) x P(black)\n",
    "#P(black ∩ white) = P(white) x P(black)\n",
    "#P(black ∩ white) = (|white| / (|white| + |red| + |black|)) x (|black| / (|white| + |red| + |black|))\n",
    "pBlack_White = (10 / (10 + 12 + 8)) * (8 / (9 + 12 + 8))\n",
    "print(f\"Probability of taking one Black ball after taking a White one (without replacement): {pBlack_White:.4f}\")\n",
    "\n",
    "# It's an independent event\n",
    "#P(black ∩ white) = P(black) x P(white)\n",
    "pBlacknWhite = (8 / (10 + 12 + 8)) * (10 / (10 + 12 + 8))\n",
    "print(f\"Probability of taking one Black ball after taking a White one (with replacement): {pBlacknWhite:.4f}\")\n",
    "\n",
    "# It's a  dependant event\n",
    "#P(white ∩ red ∩ black) = P(white) x P(red) x P(black)\n",
    "import math\n",
    "p3color = math.factorial(3) * ((10 / (10 + 12 + 8)) * (12 / (9 + 12 + 8)) * (8 / (9 + 11 + 8)))\n",
    "print(f\"Probability of taking 3 different color balls (without replacement): {p3color:.4f}\")\n"
   ]
  },
  {
   "cell_type": "markdown",
   "metadata": {},
   "source": [
    "## Challenge 2\n",
    "\n",
    "You want to go on picnic on Saturday. You hate rain, and would know to plan your weekend. To help you make a decision, you gather the following data about rainy days:\n",
    "\n",
    "* 40% of all days are cloudy.\n",
    "* About 50% of cloudy days are rainy. \n",
    "* About 20% of non-cloudy days are rainy.\n",
    "\n",
    "What is the chance of rain during next Saturday?"
   ]
  },
  {
   "cell_type": "code",
   "execution_count": null,
   "metadata": {},
   "outputs": [
    {
     "name": "stdout",
     "output_type": "stream",
     "text": [
      "Probability of rain on Saturday: 32.0%\n"
     ]
    }
   ],
   "source": [
    "# YOUR CODE HERE\n",
    "pCloudy = 0.4 \n",
    "pRainyCloudy = 0.5\n",
    "pRainyNoCloudy = 0.2\n",
    "\n",
    "#P(RainyStaurday) = p(beingCloudy ∩ cloudyRainy) + p(beingCloudy' n rainyNoCloudy)\n",
    "pRainSaturday = (0.4 * 0.5) + (0.6 * 0.2)\n",
    "print(f\"Probability of rain on Saturday: {pRainSaturday*100}%\")"
   ]
  },
  {
   "cell_type": "markdown",
   "metadata": {},
   "source": [
    "## Challenge 3\n",
    "\n",
    "A and B are events of a probability such that $P(A) = 0.3$, $P(B) = 0.6$ and $P(A \\cap B) = 0.1$\n",
    "\n",
    "Which of the following statements are true?  \n",
    "**HINT: draw a big Venn Diagram by your side**  \n",
    "* $P(\\overline{A}) = 0.7$\n",
    "* $P(A \\cup B) = 0.6$\n",
    "* $P(A \\cap \\overline{B}) = 0.2$\n",
    "* $P(A \\cup \\overline{A}) = 1$  \n",
    "* $P(A \\cap (B \\cup \\overline{B})) = 0.4$\n",
    "* $P(\\overline{A} \\cap \\overline{B}) = 0.3$\n",
    "* $P(\\overline{A \\cap B}) = 0.9$"
   ]
  },
  {
   "cell_type": "code",
   "execution_count": 58,
   "metadata": {},
   "outputs": [
    {
     "name": "stdout",
     "output_type": "stream",
     "text": [
      "P(A') = 0.7 True\n",
      "P(A ∪ B) = 0.6 False\n",
      "P(A ∩ B') = 0.2 True\n",
      "P(A ∪ A') = 1 True\n",
      "P(A'∩ (B ∪ B')) = 0.4 True\n",
      "P(A'∩ B') = 0.3 False\n",
      "P(A ∪ B)' = 0.9 False\n"
     ]
    }
   ],
   "source": [
    "# YOUR CODE HERE\n",
    "u = 1 \n",
    "pA = 0.3\n",
    "pB = 0.6\n",
    "pAnB = 0.1\n",
    "\n",
    "# P(A') = 1 - P(A)\n",
    "print(\"P(A') = 0.7\", (u -pA) == 0.7) \n",
    "\n",
    "# P(A ∪ B) = P(A) + P(B) - P(A ∩ B)\n",
    "print(\"P(A ∪ B) = 0.6\", round(pA + pB - pAnB, 2) == 0.6) \n",
    "\n",
    "# P(A ∩ B') = P(A) - P(A ∩ B)\n",
    "print(\"P(A ∩ B') = 0.2\", round(pA - pAnB, 2) == 0.2) \n",
    "\n",
    "# P(A ∪ A') = 1 # It's always 1\n",
    "print(\"P(A ∪ A') = 1\", 1 == 1) \n",
    "\n",
    "# P(A'∩ (B ∪ B')) = 0.4\n",
    "# P((1-A) u 1) = 0.4\n",
    "# P((1-A) + 1 - (1-A * 1)) = 0.4\n",
    "print(\"P(A'∩ (B ∪ B')) = 0.4\", round((u-pA) + 1 - (u-pA), 2) == 1) \n",
    "\n",
    "# P(A'∩ B')\n",
    "# u - P(A) - P(B) + P(A ∩ B)\n",
    "print(\"P(A'∩ B') = 0.3\", round(1 - pA - pB + pAnB , 2) == 0.3)\n",
    "\n",
    "#P(A ∪ B)' = 0.9\n",
    "# u - (P(A) + P(B) - P(A ∩ B))\n",
    "print(\"P(A ∪ B)' = 0.9\", round(1 - (pA + pB - pAnB) , 2) == 0.9)"
   ]
  },
  {
   "cell_type": "markdown",
   "metadata": {},
   "source": [
    "## Challenge 4\n",
    "\n",
    " * If someone flies to China, the probability of getting Covid is 1%  \n",
    " * If someone flies to Italy, the probability of getting Covid is 20%  \n",
    "\n",
    "I roll 1 dice with numbers 1, 2, 3, 4, 5, 6:  \n",
    " * If 1: I fly to Italy\n",
    " * If not 1: I fly to China\n",
    "\n",
    "During my trip, I got Covid. What is the probability that I flew to China?"
   ]
  },
  {
   "cell_type": "code",
   "execution_count": 65,
   "metadata": {},
   "outputs": [
    {
     "name": "stdout",
     "output_type": "stream",
     "text": [
      "Flew China Probability:  20.0 %\n"
     ]
    }
   ],
   "source": [
    "# YOUR CODE HERE\n",
    "p_gCovid_fChina = 0.01 # P(gotCovid ∩ fChina) \n",
    "p_gCovid_fItaly = 0.2  # P(gotCovid ∩ fItaly) \n",
    "p_fChina = 5/6\n",
    "p_fItaly = 1/6\n",
    "\n",
    "# P(fChina|gotCovid) = (P(gotCovid ∩ fChina) x P(fChina)) / P(gotCovid)\n",
    "# P(fChina|gotCovid) = (0.01 * 5/6) / ((0.01 * 5/6) + (0.2 * 1/6))\n",
    "\n",
    "print(\"Flew China Probability: \", round((p_gCovid_fChina * p_fChina) / ((p_gCovid_fChina * p_fChina) + (p_gCovid_fItaly * p_fItaly)) , 2) * 100 ,'%')"
   ]
  },
  {
   "cell_type": "markdown",
   "metadata": {},
   "source": [
    "## BONUS\n",
    "\n",
    "You roll 2 dice. What is the probability that the sum of the numbers is 7? And 8? And 9? Then simulate 10000 times and draw a countplot."
   ]
  },
  {
   "cell_type": "markdown",
   "metadata": {},
   "source": [
    "your explanation here"
   ]
  },
  {
   "cell_type": "code",
   "execution_count": 87,
   "metadata": {},
   "outputs": [
    {
     "name": "stdout",
     "output_type": "stream",
     "text": [
      "rolling 2 dices the probability of 4 is: 0.08\n",
      "rolling 2 dices the probability of 7 is: 0.17\n",
      "rolling 2 dices the probability of 8 is: 0.19\n",
      "rolling 2 dices the probability of 9 is: 0.22\n"
     ]
    },
    {
     "data": {
      "image/png": "[encoded data removed]",
      "text/plain": [
       "<Figure size 640x480 with 1 Axes>"
      ]
     },
     "metadata": {},
     "output_type": "display_data"
    }
   ],
   "source": [
    "# YOUR CODE HERE\n",
    "import random\n",
    "import seaborn as sns\n",
    "\n",
    "total_values = 6*6\n",
    "probability_of = [4, 7, 8, 9]\n",
    "for n in probability_of:\n",
    "    print(f\"rolling 2 dices the probability of {n} is: { (n-1) / total_values:.2f}\")\n",
    "\n",
    "dices = []\n",
    "for i in range (0,1000):\n",
    "    dices.append(random.randint(1, 6) + random.randint(1, 6))\n",
    "\n",
    "\n",
    "sns.countplot(x=dices); "
   ]
  }
 ],
 "metadata": {
  "kernelspec": {
   "display_name": "Python 3",
   "language": "python",
   "name": "python3"
  },
  "language_info": {
   "codemirror_mode": {
    "name": "ipython",
    "version": 3
   },
   "file_extension": ".py",
   "mimetype": "text/x-python",
   "name": "python",
   "nbconvert_exporter": "python",
   "pygments_lexer": "ipython3",
   "version": "3.11.12"
  },
  "toc": {
   "base_numbering": 1,
   "nav_menu": {},
   "number_sections": false,
   "sideBar": true,
   "skip_h1_title": false,
   "title_cell": "Table of Contents",
   "title_sidebar": "Contents",
   "toc_cell": false,
   "toc_position": {
    "height": "calc(100% - 180px)",
    "left": "10px",
    "top": "150px",
    "width": "296.475px"
   },
   "toc_section_display": true,
   "toc_window_display": false
  },
  "varInspector": {
   "cols": {
    "lenName": 16,
    "lenType": 16,
    "lenVar": 40
   },
   "kernels_config": {
    "python": {
     "delete_cmd_postfix": "",
     "delete_cmd_prefix": "del ",
     "library": "var_list.py",
     "varRefreshCmd": "print(var_dic_list())"
    },
    "r": {
     "delete_cmd_postfix": ") ",
     "delete_cmd_prefix": "rm(",
     "library": "var_list.r",
     "varRefreshCmd": "cat(var_dic_list()) "
    }
   },
   "types_to_exclude": [
    "module",
    "function",
    "builtin_function_or_method",
    "instance",
    "_Feature"
   ],
   "window_display": false
  }
 },
 "nbformat": 4,
 "nbformat_minor": 2
}
